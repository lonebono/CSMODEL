{
 "cells": [
  {
   "cell_type": "markdown",
   "id": "42f23454",
   "metadata": {},
   "source": [
    "# CSMODEL MCO Jupyter Notebook - Phase 1\n",
    "Akbayan Partylist: Encarguez, Jorenie T. | Filipino, Audric Justin P. | Sy, Vaughn Marick A. | Valdez, Pulvert Gerald "
   ]
  },
  {
   "cell_type": "markdown",
   "id": "075c2d56",
   "metadata": {},
   "source": [
    "# Import Libraries"
   ]
  },
  {
   "cell_type": "code",
   "execution_count": null,
   "id": "a77e34f4",
   "metadata": {},
   "outputs": [],
   "source": [
    "import numpy as np\n",
    "import pandas as pd\n",
    "import matplotlib.pyplot as plt\n",
    "import scipy.stats"
   ]
  },
  {
   "cell_type": "markdown",
   "id": "25c4f503",
   "metadata": {},
   "source": [
    "# Data Set Description\n",
    "This data set contains student performance in secondary education in two Portuguese schools. The two datasets regarding performances are Mathematics and Portuguese and it was collected through school reports and questionnaires. Due to the data collection method, insights from the data can be affected by limited generability and self-reported bias.\n",
    "\n",
    "- **`school`**:\tstudent's school (binary: 'GP' - Gabriel Pereira or 'MS' - Mousinho da Silveira)\n",
    "- **`sex`**:\tstudent's sex (binary: 'F' - female or 'M' - male)\n",
    "- **`age`**:\tstudent's age (numeric: from 15 to 22)\n",
    "- **`address`**:\tstudent's home address type (binary: 'U' - urban or 'R' - rural)\n",
    "- **`famsize`**:\tfamily size (binary: 'LE3' - less or equal to 3 or 'GT3' - greater than 3)\n",
    "- **`Pstatus`**:\tparent's cohabitation status (binary: 'T' - living together or 'A' - apart)\n",
    "- **`Medu`**:\tmother's education (numeric: 0 - none, 1 - primary education (4th grade), 2 - 5th to 9th grade, 3 - secondary education or 4 - higher education)\n",
    "- **`Fedu`**:\tfather's education (numeric: 0 - none, 1 - primary education (4th grade), 2 - 5th to 9th grade, 3 - secondary education or 4 - higher education)\n",
    "- **`Mjob`**:\tmother's job (nominal: 'teacher', 'health' care related, civil 'services' (e.g. administrative or police), 'at_home' or 'other')\n",
    "- **`Fjob`**:\tfather's job (nominal: 'teacher', 'health' care related, civil 'services' (e.g. administrative or police), 'at_home' or 'other')\n",
    "- **`reason`**:\treason to choose this school (nominal: close to 'home', school 'reputation', 'course' preference or 'other')\n",
    "- **`guardian`**:\tstudent's guardian (nominal: 'mother', 'father' or 'other')\n",
    "- **`traveltime`**:\thome to school travel time (numeric: 1 - <15 min., 2 - 15 to 30 min., 3 - 30 min. to 1 hour, or 4 - >1 hour)\n",
    "- **`studytime`**:\tweekly study time (numeric: 1 - <2 hours, 2 - 2 to 5 hours, 3 - 5 to 10 hours, or 4 - >10 hours)\n",
    "- **`failures`**:\tnumber of past class failures (numeric: n if 1<=n<3, else 4)\n",
    "- **`schoolsup`**:\textra educational support (binary: yes or no)\n",
    "- **`famsup`**:\tfamily educational support (binary: yes or no)\n",
    "- **`paid`**:\textra paid classes within the course subject (Math or Portuguese) (binary: yes or no)\n",
    "- **`activities`**:\textra-curricular activities (binary: yes or no)\n",
    "- **`nursery`**:\tattended nursery school (binary: yes or no)\n",
    "- **`higher`**:\twants to take higher education (binary: yes or no)\n",
    "- **`internet`**:\tInternet access at home (binary: yes or no)\n",
    "- **`romantic`**:\twith a romantic relationship (binary: yes or no)\n",
    "- **`famrel`**:\tquality of family relationships (numeric: from 1 - very bad to 5 - excellent)\n",
    "- **`freetime`**:\tfree time after school (numeric: from 1 - very low to 5 - very high)\n",
    "- **`goout`**:\tgoing out with friends (numeric: from 1 - very low to 5 - very high)\n",
    "- **`Dalc`**:\tworkday alcohol consumption (numeric: from 1 - very low to 5 - very high)\n",
    "- **`Walc`**:\tweekend alcohol consumption (numeric: from 1 - very low to 5 - very high)\n",
    "- **`health`**:\tcurrent health status (numeric: from 1 - very bad to 5 - very good)\n",
    "- **`absences`**:\tnumber of school absences (numeric: from 0 to 93)\n",
    "- **`G1`**:\tfirst period grade (numeric: from 0 to 20)\n",
    "- **`G2`**:\tsecond period grade (numeric: from 0 to 20)\n",
    "- **`G3`**:\tfinal grade (numeric: from 0 to 20, output target)\n"
   ]
  },
  {
   "cell_type": "code",
   "execution_count": null,
   "id": "6b5f2d12",
   "metadata": {},
   "outputs": [],
   "source": [
    "math_df = pd.read_csv('Maths.csv')\n",
    "math_df.info()\n",
    "por_df = pd.read_csv('Portuguese.csv')\n",
    "por_df.info()"
   ]
  },
  {
   "cell_type": "markdown",
   "id": "045a38a4",
   "metadata": {},
   "source": [
    "# Data Cleaning"
   ]
  },
  {
   "cell_type": "markdown",
   "id": "bdecdd63",
   "metadata": {},
   "source": [
    "# Research Questions & Exploratory Data Analysis"
   ]
  },
  {
   "cell_type": "markdown",
   "id": "f92a5a28",
   "metadata": {},
   "source": [
    "# Data Mining"
   ]
  },
  {
   "cell_type": "markdown",
   "id": "bb18f670",
   "metadata": {},
   "source": [
    "# Statistical Inference"
   ]
  },
  {
   "cell_type": "markdown",
   "id": "41e75385",
   "metadata": {},
   "source": [
    "# Insights & Conclusions"
   ]
  }
 ],
 "metadata": {
  "kernelspec": {
   "display_name": ".venv",
   "language": "python",
   "name": "python3"
  },
  "language_info": {
   "name": "python",
   "version": "3.13.2"
  }
 },
 "nbformat": 4,
 "nbformat_minor": 5
}
