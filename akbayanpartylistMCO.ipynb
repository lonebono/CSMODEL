{
 "cells": [
  {
   "cell_type": "markdown",
   "id": "42f23454",
   "metadata": {},
   "source": [
    "# CSMODEL MCO Jupyter Notebook - Phase 1\n",
    "Akbayan Partylist: Encarguez, Jorenie T. | Filipino, Audric Justin P. | Sy, Vaughn Marick A. | Valdez, Pulvert Gerald "
   ]
  }
 ],
 "metadata": {
  "kernelspec": {
   "display_name": ".venv",
   "language": "python",
   "name": "python3"
  },
  "language_info": {
   "name": "python",
   "version": "3.13.2"
  }
 },
 "nbformat": 4,
 "nbformat_minor": 5
}
