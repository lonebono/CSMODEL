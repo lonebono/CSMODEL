{
 "cells": [
  {
   "cell_type": "markdown",
   "id": "42f23454",
   "metadata": {},
   "source": [
    "# CSMODEL MCO Jupyter Notebook - Phase 1\n",
    "Akbayan Partylist: Encarguez, Jorenie T. | Filipino, Audric Justin P. | Sy, Vaughn Marick A. | Valdez, Pulvert Gerald "
   ]
  }
 ],
 "metadata": {
  "language_info": {
   "name": "python"
  }
 },
 "nbformat": 4,
 "nbformat_minor": 5
}
