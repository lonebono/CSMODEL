{
 "cells": [
  {
   "cell_type": "markdown",
   "id": "42f23454",
   "metadata": {},
   "source": [
    "# CSMODEL MCO Jupyter Notebook - Phase 1\n",
    "Akbayan Partylist: Encarguez, Jorenie T. | Filipino, Audric Justin P. | Sy, Vaughn Marick A. | Valdez, Pulvert Gerald "
   ]
  },
  {
   "cell_type": "markdown",
   "id": "075c2d56",
   "metadata": {},
   "source": [
    "# Import Libraries"
   ]
  },
  {
   "cell_type": "code",
   "execution_count": null,
   "id": "a77e34f4",
   "metadata": {},
   "outputs": [],
   "source": [
    "import numpy as np\n",
    "import pandas as pd\n",
    "import matplotlib.pyplot as plt\n",
    "import scipy.stats"
   ]
  },
  {
   "cell_type": "markdown",
   "id": "25c4f503",
   "metadata": {},
   "source": [
    "# Data Set Description\n",
    "This data set contains student performance in secondary education in two Portuguese schools. The two datasets regarding performances are Mathematics and Portuguese and it was collected through school reports and questionnaires. Due to the data collection method, insights from the data can be affected by limited generability and self-reported bias.\n"
   ]
  },
  {
   "cell_type": "code",
   "execution_count": null,
   "id": "6b5f2d12",
   "metadata": {},
   "outputs": [],
   "source": [
    "math_df = pd.read_csv('Maths.csv')\n",
    "math_df.info()\n",
    "por_df = pd.read_csv('Portuguese.csv')\n",
    "por_df.info()"
   ]
  },
  {
   "cell_type": "markdown",
   "id": "045a38a4",
   "metadata": {},
   "source": [
    "# Data Cleaning"
   ]
  },
  {
   "cell_type": "markdown",
   "id": "bdecdd63",
   "metadata": {},
   "source": [
    "# Research Questions & Exploratory Data Analysis"
   ]
  },
  {
   "cell_type": "markdown",
   "id": "f92a5a28",
   "metadata": {},
   "source": [
    "# Data Mining"
   ]
  },
  {
   "cell_type": "markdown",
   "id": "bb18f670",
   "metadata": {},
   "source": [
    "# Statistical Inference"
   ]
  },
  {
   "cell_type": "markdown",
   "id": "41e75385",
   "metadata": {},
   "source": [
    "# Insights & Conclusions"
   ]
  }
 ],
 "metadata": {
  "kernelspec": {
   "display_name": ".venv",
   "language": "python",
   "name": "python3"
  },
  "language_info": {
   "name": "python",
   "version": "3.13.2"
  }
 },
 "nbformat": 4,
 "nbformat_minor": 5
}
